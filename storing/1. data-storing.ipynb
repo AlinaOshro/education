{
 "cells": [
  {
   "cell_type": "code",
   "execution_count": 23,
   "id": "780430da-b9bd-4166-b953-b8fff7995035",
   "metadata": {},
   "outputs": [],
   "source": [
    "import psycopg2\n",
    "import psycopg2.extras\n",
    "\n",
    "import json\n",
    "#!pip install json-lines\n",
    "import json_lines\n",
    "from pathlib import Path\n",
    "import pandas as pd    \n",
    "#!pip install memory_profiler  \n",
    "import time                 # timing operations\n",
    "import memory_profiler      # managing memory usage\n",
    "from memory_profiler import memory_usage\n"
   ]
  },
  {
   "cell_type": "markdown",
   "id": "5f7986f1-573c-4470-8d55-3657580cb04b",
   "metadata": {},
   "source": [
    "# Посмотреть JSON"
   ]
  },
  {
   "cell_type": "code",
   "execution_count": 10,
   "id": "f254947c-5a7c-495d-bf5c-23fe3f6d8c3f",
   "metadata": {},
   "outputs": [
    {
     "name": "stdout",
     "output_type": "stream",
     "text": [
      "{'url': 'https://apkbr.ru/node/9529', 'title': 'Лъэмыжыр къызэIуахыжащ', 'publication_date': '2023-12-19T13:05:57+00:00', 'content': '«Кавказ» зи фIэщыгъэ Р-217 къэралпсо автомашинэ ', 'author': 'ШУРДЫМ Динэ.'}\n",
      "{'url': 'https://apkbr.ru/node/9528', 'title': 'Къэбэрдей жэщтеуэм иуэрэдымрэ ', 'publication_date': '2023-12-19T13:05:57+00:00', 'content': '«Кавказ» зи фIэщыгъэ Р-217 къэралпсо автомашинэ ', 'author': 'БАХЪСЭН Азэмэт.'}\n",
      "{'url': 'https://apkbr.ru/node/9527', 'title': 'ЛIыхъужьым и партэ', 'publication_date': '2023-12-19T11:52:55+00:00', 'content': '«Фэеплъ\\n\\xa0\\nНалшык къалэм и курыт еджапIэ №1-м щагъэув', 'author': None}\n"
     ]
    }
   ],
   "source": [
    "with open(\"sample.json\",\"r\", encoding=\"utf-8\") as file:\n",
    "    data = json.loads(file.read())\n",
    "    for item in data:\n",
    "        print(item)"
   ]
  },
  {
   "cell_type": "code",
   "execution_count": 11,
   "id": "270d7552-9e7f-48a7-9fd2-99ccdd4b988c",
   "metadata": {},
   "outputs": [
    {
     "data": {
      "text/html": [
       "<div>\n",
       "<style scoped>\n",
       "    .dataframe tbody tr th:only-of-type {\n",
       "        vertical-align: middle;\n",
       "    }\n",
       "\n",
       "    .dataframe tbody tr th {\n",
       "        vertical-align: top;\n",
       "    }\n",
       "\n",
       "    .dataframe thead th {\n",
       "        text-align: right;\n",
       "    }\n",
       "</style>\n",
       "<table border=\"1\" class=\"dataframe\">\n",
       "  <thead>\n",
       "    <tr style=\"text-align: right;\">\n",
       "      <th></th>\n",
       "      <th>url</th>\n",
       "      <th>title</th>\n",
       "      <th>publication_date</th>\n",
       "      <th>content</th>\n",
       "      <th>author</th>\n",
       "    </tr>\n",
       "  </thead>\n",
       "  <tbody>\n",
       "    <tr>\n",
       "      <th>0</th>\n",
       "      <td>https://apkbr.ru/node/9529</td>\n",
       "      <td>Лъэмыжыр къызэIуахыжащ</td>\n",
       "      <td>2023-12-19T13:05:57+00:00</td>\n",
       "      <td>«Кавказ» зи фIэщыгъэ Р-217 къэралпсо автомашинэ</td>\n",
       "      <td>ШУРДЫМ Динэ.</td>\n",
       "    </tr>\n",
       "    <tr>\n",
       "      <th>1</th>\n",
       "      <td>https://apkbr.ru/node/9528</td>\n",
       "      <td>Къэбэрдей жэщтеуэм иуэрэдымрэ</td>\n",
       "      <td>2023-12-19T13:05:57+00:00</td>\n",
       "      <td>«Кавказ» зи фIэщыгъэ Р-217 къэралпсо автомашинэ</td>\n",
       "      <td>БАХЪСЭН Азэмэт.</td>\n",
       "    </tr>\n",
       "    <tr>\n",
       "      <th>2</th>\n",
       "      <td>https://apkbr.ru/node/9527</td>\n",
       "      <td>ЛIыхъужьым и партэ</td>\n",
       "      <td>2023-12-19T11:52:55+00:00</td>\n",
       "      <td>«Фэеплъ\\n \\nНалшык къалэм и курыт еджапIэ №1-м...</td>\n",
       "      <td>None</td>\n",
       "    </tr>\n",
       "  </tbody>\n",
       "</table>\n",
       "</div>"
      ],
      "text/plain": [
       "                          url                           title  \\\n",
       "0  https://apkbr.ru/node/9529          Лъэмыжыр къызэIуахыжащ   \n",
       "1  https://apkbr.ru/node/9528  Къэбэрдей жэщтеуэм иуэрэдымрэ    \n",
       "2  https://apkbr.ru/node/9527              ЛIыхъужьым и партэ   \n",
       "\n",
       "            publication_date  \\\n",
       "0  2023-12-19T13:05:57+00:00   \n",
       "1  2023-12-19T13:05:57+00:00   \n",
       "2  2023-12-19T11:52:55+00:00   \n",
       "\n",
       "                                             content           author  \n",
       "0   «Кавказ» зи фIэщыгъэ Р-217 къэралпсо автомашинэ      ШУРДЫМ Динэ.  \n",
       "1   «Кавказ» зи фIэщыгъэ Р-217 къэралпсо автомашинэ   БАХЪСЭН Азэмэт.  \n",
       "2  «Фэеплъ\\n \\nНалшык къалэм и курыт еджапIэ №1-м...             None  "
      ]
     },
     "execution_count": 11,
     "metadata": {},
     "output_type": "execute_result"
    }
   ],
   "source": [
    "json_obj = pd.read_json('sample.json')\n",
    "json_obj "
   ]
  },
  {
   "cell_type": "markdown",
   "id": "0ecd28d1-88ce-41c8-b0cf-2fdcf5c33ef8",
   "metadata": {},
   "source": [
    "# Посмотреть JSONL"
   ]
  },
  {
   "cell_type": "code",
   "execution_count": 36,
   "id": "a0b6396b-d048-4e04-8d91-fe5ccfcb2933",
   "metadata": {},
   "outputs": [
    {
     "data": {
      "text/html": [
       "<div>\n",
       "<style scoped>\n",
       "    .dataframe tbody tr th:only-of-type {\n",
       "        vertical-align: middle;\n",
       "    }\n",
       "\n",
       "    .dataframe tbody tr th {\n",
       "        vertical-align: top;\n",
       "    }\n",
       "\n",
       "    .dataframe thead th {\n",
       "        text-align: right;\n",
       "    }\n",
       "</style>\n",
       "<table border=\"1\" class=\"dataframe\">\n",
       "  <thead>\n",
       "    <tr style=\"text-align: right;\">\n",
       "      <th></th>\n",
       "      <th>url</th>\n",
       "      <th>title</th>\n",
       "      <th>publication_date</th>\n",
       "      <th>content</th>\n",
       "      <th>author</th>\n",
       "    </tr>\n",
       "  </thead>\n",
       "  <tbody>\n",
       "    <tr>\n",
       "      <th>0</th>\n",
       "      <td>https://apkbr.ru/node/9529</td>\n",
       "      <td>Лъэмыжыр къызэIуахыжащ</td>\n",
       "      <td>2023-12-19T13:05:57+00:00</td>\n",
       "      <td>«Кавказ» зи фIэщыгъэ Р-217 къэралпсо автомашин...</td>\n",
       "      <td>ШУРДЫМ Динэ.</td>\n",
       "    </tr>\n",
       "    <tr>\n",
       "      <th>1</th>\n",
       "      <td>https://apkbr.ru/node/9528</td>\n",
       "      <td>Къэбэрдей жэщтеуэм иуэрэдымрэ хъыбарымрэ</td>\n",
       "      <td>2023-12-19T12:03:06+00:00</td>\n",
       "      <td>Жэщтеуэмэ, уэр, и хъыбар пэжыр, аредэ, вжесIэн...</td>\n",
       "      <td>Тедзэным хуэзыгъэхьэзырар ТАБЫЩ Муратщ.</td>\n",
       "    </tr>\n",
       "    <tr>\n",
       "      <th>2</th>\n",
       "      <td>https://apkbr.ru/node/9527</td>\n",
       "      <td>ЛIыхъужьым и партэ</td>\n",
       "      <td>2023-12-19T11:52:55+00:00</td>\n",
       "      <td>Фэеплъ\\n \\nНалшык къалэм и курыт еджапIэ №1-м ...</td>\n",
       "      <td>БАХЪСЭН Азэмэт.</td>\n",
       "    </tr>\n",
       "    <tr>\n",
       "      <th>3</th>\n",
       "      <td>https://apkbr.ru/node/9506</td>\n",
       "      <td>«ХъуэпсапIэхэм я псей»</td>\n",
       "      <td>2023-12-17T08:00:44+00:00</td>\n",
       "      <td>Къэбэрдей-Балъкъэрым дыгъуасэ щрагъэжьащ «Хъуэ...</td>\n",
       "      <td>None</td>\n",
       "    </tr>\n",
       "    <tr>\n",
       "      <th>4</th>\n",
       "      <td>https://apkbr.ru/node/9491</td>\n",
       "      <td>Хы псэущхьэхэр мащIэ хъуащ</td>\n",
       "      <td>2023-12-15T14:30:41+00:00</td>\n",
       "      <td>Иужьрей зэманым псэущхьэ зэмылIэужьыгъуэхэр щI...</td>\n",
       "      <td>ФЫРЭ Анфисэ.</td>\n",
       "    </tr>\n",
       "  </tbody>\n",
       "</table>\n",
       "</div>"
      ],
      "text/plain": [
       "                          url                                     title  \\\n",
       "0  https://apkbr.ru/node/9529                    Лъэмыжыр къызэIуахыжащ   \n",
       "1  https://apkbr.ru/node/9528  Къэбэрдей жэщтеуэм иуэрэдымрэ хъыбарымрэ   \n",
       "2  https://apkbr.ru/node/9527                        ЛIыхъужьым и партэ   \n",
       "3  https://apkbr.ru/node/9506                    «ХъуэпсапIэхэм я псей»   \n",
       "4  https://apkbr.ru/node/9491                Хы псэущхьэхэр мащIэ хъуащ   \n",
       "\n",
       "            publication_date  \\\n",
       "0  2023-12-19T13:05:57+00:00   \n",
       "1  2023-12-19T12:03:06+00:00   \n",
       "2  2023-12-19T11:52:55+00:00   \n",
       "3  2023-12-17T08:00:44+00:00   \n",
       "4  2023-12-15T14:30:41+00:00   \n",
       "\n",
       "                                             content  \\\n",
       "0  «Кавказ» зи фIэщыгъэ Р-217 къэралпсо автомашин...   \n",
       "1  Жэщтеуэмэ, уэр, и хъыбар пэжыр, аредэ, вжесIэн...   \n",
       "2  Фэеплъ\\n \\nНалшык къалэм и курыт еджапIэ №1-м ...   \n",
       "3  Къэбэрдей-Балъкъэрым дыгъуасэ щрагъэжьащ «Хъуэ...   \n",
       "4  Иужьрей зэманым псэущхьэ зэмылIэужьыгъуэхэр щI...   \n",
       "\n",
       "                                    author  \n",
       "0                             ШУРДЫМ Динэ.  \n",
       "1  Тедзэным хуэзыгъэхьэзырар ТАБЫЩ Муратщ.  \n",
       "2                          БАХЪСЭН Азэмэт.  \n",
       "3                                     None  \n",
       "4                             ФЫРЭ Анфисэ.  "
      ]
     },
     "execution_count": 36,
     "metadata": {},
     "output_type": "execute_result"
    }
   ],
   "source": [
    "json_lines = pd.read_json('apkbr_ru.jsonl', lines=True )\n",
    "json_lines.head()"
   ]
  },
  {
   "cell_type": "code",
   "execution_count": 37,
   "id": "64a05dad-2725-4c6f-a931-644e38e08245",
   "metadata": {},
   "outputs": [
    {
     "name": "stdout",
     "output_type": "stream",
     "text": [
      "<class 'pandas.core.frame.DataFrame'> <class 'pandas.core.frame.DataFrame'>\n"
     ]
    }
   ],
   "source": [
    "print(type(json_obj ), type(json_lines))"
   ]
  },
  {
   "cell_type": "markdown",
   "id": "5cddde09-7291-4fe5-afcb-20e6a5b79b04",
   "metadata": {},
   "source": [
    "# Положить всё в одну таблицу"
   ]
  },
  {
   "cell_type": "code",
   "execution_count": 14,
   "id": "6d170997-b647-4772-912d-c7142677de4c",
   "metadata": {},
   "outputs": [],
   "source": [
    "def create_table(cursor) -> None:\n",
    "    cursor.execute(\"\"\"\n",
    "        DROP TABLE IF EXISTS texts;\n",
    "        CREATE UNLOGGED TABLE texts (\n",
    "            url                 TEXT,\n",
    "            title               TEXT,\n",
    "            publication_date\tTEXT,\n",
    "            content             TEXT,\n",
    "            author              TEXT\n",
    "        );\"\"\")\n",
    "\n",
    "# look at the documentation of PSQL (UNLOGGED TABLE vs TEMP)"
   ]
  },
  {
   "cell_type": "code",
   "execution_count": 32,
   "id": "0890091e-e8b7-41f1-98aa-051657d772ea",
   "metadata": {},
   "outputs": [],
   "source": [
    "def df_to_table(df, table, cursor):\n",
    "\n",
    "    if len(df) > 0:\n",
    "        df_columns = list(df) # ['url', 'title', 'publication_date', 'content', 'author']\n",
    "        columns = \",\".join(df_columns)\n",
    "\n",
    "        # create VALUES('%s', '%s\",...) one '%s' per column\n",
    "        values = \"VALUES({})\".format(\",\".join([\"%s\" for _ in df_columns])) \n",
    "\n",
    "        #create INSERT INTO table (columns) VALUES('%s',...)\n",
    "        insert_stmt = f\"INSERT INTO {table} ({columns}) {values}\"\n",
    "        cursor.execute(\"truncate \" + table + \";\")  #avoiding uploading duplicate data\n",
    "        cursor = connection.cursor()\n",
    "        psycopg2.extras.execute_batch(cursor, insert_stmt, df.values)\n",
    "    connection.commit()"
   ]
  },
  {
   "cell_type": "code",
   "execution_count": 38,
   "id": "8b826bf4-8f86-4e67-840a-92dad54fd51d",
   "metadata": {},
   "outputs": [
    {
     "name": "stdout",
     "output_type": "stream",
     "text": [
      "Server version: ('PostgreSQL 10.23, compiled by Visual C++ build 1800, 32-bit',)\n"
     ]
    }
   ],
   "source": [
    "try:\n",
    "    connection = psycopg2.connect(\n",
    "        host=\"127.0.0.1\",\n",
    "        user=\"postgres\",\n",
    "        password=\"postgres123\",\n",
    "        database=\"education\"\n",
    "    )\n",
    "    connection.autocommit = True\n",
    "\n",
    "    with connection.cursor() as cursor:\n",
    "        cursor.execute(\"SELECT version();\")\n",
    "        print(f\"Server version: {cursor.fetchone()}\")\n",
    "\n",
    "    with connection.cursor() as cursor:\n",
    "        create_table(cursor)\n",
    "    \n",
    "    with connection.cursor() as cursor:\n",
    "        df_to_table(json_lines,'texts', cursor)\n",
    "\n",
    "except Exception as _ex:\n",
    "    print(f\"[INFO] Error while working with PostgreSQL\", _ex)\n",
    "\n",
    "finally:\n",
    "    if connection:\n",
    "        connection.close()\n",
    "        #print(\"[INFO] PostgreSQL connection closed\")"
   ]
  },
  {
   "cell_type": "markdown",
   "id": "aa8f83cf-ead9-47d1-bb16-d6ade63742af",
   "metadata": {},
   "source": [
    "# Положить в разные таблицы"
   ]
  },
  {
   "cell_type": "markdown",
   "id": "972f31f1-69cf-496c-af06-5fd73ce26bd7",
   "metadata": {},
   "source": [
    "1. Таблица \"Источники\" (поля: id_источника, источник)\n",
    "2. Таблица \"Предложения\" (поля: id_текста, текст, id_источника)\n",
    "3. Таблица \"Слова\" (поля: id_слова, слово)\n",
    "4. Таблица-связь \"Слова\" и \"Предложения\" (поля: id_слова, id_предложения)\n",
    "7. Таблица-связь \"Слова\" и \"Источники\". (поля: id_слова, id_источника, кол-во слова в источнике) "
   ]
  },
  {
   "cell_type": "code",
   "execution_count": null,
   "id": "13814dfb-7051-4fbc-90c5-934c9f75d10c",
   "metadata": {},
   "outputs": [],
   "source": []
  }
 ],
 "metadata": {
  "kernelspec": {
   "display_name": "Python 3 (ipykernel)",
   "language": "python",
   "name": "python3"
  },
  "language_info": {
   "codemirror_mode": {
    "name": "ipython",
    "version": 3
   },
   "file_extension": ".py",
   "mimetype": "text/x-python",
   "name": "python",
   "nbconvert_exporter": "python",
   "pygments_lexer": "ipython3",
   "version": "3.11.7"
  }
 },
 "nbformat": 4,
 "nbformat_minor": 5
}
